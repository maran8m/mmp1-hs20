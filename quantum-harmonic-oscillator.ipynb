{
 "cells": [
  {
   "cell_type": "markdown",
   "metadata": {},
   "source": [
    "# Quantum harmonic oscillator"
   ]
  },
  {
   "cell_type": "markdown",
   "metadata": {},
   "source": [
    "Analogously to the harmonic oscillator from classical physics, the *quantum harmonic oscillator* describes the behaviour of a particle in a potential of the form\n",
    "$$\n",
    "V(x) = \\frac{1}{2} k x^2 = \\frac{1}{2} m \\omega^2 x^2.\n",
    "$$\n",
    "This is one of the few quantum-mechanical systems for which an exact, analytical solution can be derived. Since an arbitrary potential can be approximated with a harmonic potential in the proximity of a stable equilibrium point, this is a problem worth investigating.\n",
    "\n",
    "Similar to how Newton's second law $(\\vec{F} = m \\vec{a})$ is used in classical physics, the Schrödinger equation allows us to make mathematical predictions of a physical system given a set of initial conditions. Here, we look at the (slightly less general) time-independent Schrödinger equation\n",
    "$$\n",
    "\\hat{H} \\psi = E \\psi,\n",
    "$$\n",
    "where $\\psi$ denotes the wave function describing the system, $E$ a to-be determined energy level and $\\hat{H}$ the Hamiltonian of the system. From a mathematical point of view, this is just an eigenvalue-equation, where $E$ denotes the eigenvalue and $\\psi$ the eigenstate.\n",
    "\n",
    "As in Hamiltonian mechanics, the Hamiltonian operator corresponds to the total energy energy of the system. It is usually expressed as the sum of the operators corresponding to kinetic and potential energy. Let $m$ be the mass of a particle, $\\omega$ the angular frequency of the oscillator, $\\hat{x} = x$ the position operator and $\\hat{p} = -i\\hbar \\nabla$ the momentum operator. Then the Hamiltonian of the particle can be written as\n",
    "$$\\hat{H} = \\hat{T} + \\hat{V} = -\\frac{\\hbar^2}{2m}\\Delta + \\frac{m \\omega^2}{2}x^2.$$\n",
    "Plugging this into the Schrödinger equation yields\n",
    "$$ -\\frac{\\hbar^2}{2m}\\Delta \\psi + \\frac{m \\omega^2}{2}x^2 \\psi = E \\psi.$$\n",
    "With the change of variables $\\xi = \\sqrt{\\frac{m\\omega}{\\hbar}} x$, the equation becomes \n",
    "$$\\partial_\\xi^2 \\psi= \\left(\\xi^2 - \\frac{2E}{\\hbar \\omega}\\right) \\psi.$$\n",
    "This differential equation has an exact solution in terms of a quantum number $n \\in \\mathbb{N}_0$. The eigenstates are given by\n",
    "$$\\psi_n(\\xi) = N_n H_n(\\xi) e^{-\\frac{1}{2}\\xi^2}$$\n",
    "with the corresponding energy level/eigenvalues \n",
    "$$E_n = \\hbar \\omega\\left(n + \\frac{1}{2} \\right),$$\n",
    "where $N_n$ is the normalization constant $\\frac{1}{\\sqrt{2^n n!}}\\left(\\frac{m \\omega}{\\pi \\hbar}\\right)^{1/4}$ and $H_n$ denotes the Hermite-polynomial of $n$th order, defined by\n",
    "$$H_n(x) = (-1)^n e^{x^2} \\frac{d^n}{dx^n} e^{-x^2}.$$\n",
    "The Hermite polynomials satisfy the recursion formula\n",
    "$$H_{n+1}(x) = 2x H_n(x) - 2nH_{n-1}(x).$$\n",
    "Hence given the first two Hermite polynomials $H_0 = 1$ and $H_1 = 2x$, we can easily compute the ones up to order $N$ using the function\n",
    "```python\n",
    "def make_Hr():\n",
    "    # Define the Hermite polynomials up to order N by recursion:\n",
    "    # H_[n] = 2xH_[n-1] - 2(n-1)H_[n-2]\n",
    "    Hr = [None] * (N + 1)\n",
    "    # Define first two Hermite polynomials\n",
    "    Hr[0] = np.poly1d([1.,])\n",
    "    Hr[1] = np.poly1d([2., 0.])\n",
    "    \n",
    "    for n in range(2, N+1):\n",
    "        # Hr[1] = 2x\n",
    "        Hr[n] = Hr[1]*Hr[n-1] - 2*(n-1)*Hr[n-2]\n",
    "    return Hr\n",
    "```\n",
    "The following code plots the wavefunction $\\psi$ (```PLOT_PROB = False```) or the corresponding probability density $|\\psi|^2$ (```PLOT_PROB = True```) for quantum numbers up to $N = 6$ together with the potential $V$."
   ]
  },
  {
   "cell_type": "markdown",
   "metadata": {},
   "source": [
    "### Plots"
   ]
  },
  {
   "cell_type": "code",
   "execution_count": 4,
   "metadata": {
    "scrolled": true
   },
   "outputs": [
    {
     "data": {
      "text/html": [
       "<table><tr><td><img src='qho-psi1.png'></td><td><img src='qho-psi2.png'></td></tr></table>"
      ],
      "text/plain": [
       "<IPython.core.display.HTML object>"
      ]
     },
     "metadata": {},
     "output_type": "display_data"
    }
   ],
   "source": [
    "from IPython.display import HTML, display\n",
    "display(HTML(\"<table><tr><td><img src='qho-psi1.png'></td><td><img src='qho-psi2.png'></td></tr></table>\"))"
   ]
  },
  {
   "cell_type": "markdown",
   "metadata": {},
   "source": [
    "### Code"
   ]
  },
  {
   "cell_type": "code",
   "execution_count": 5,
   "metadata": {},
   "outputs": [],
   "source": [
    "import numpy as np\n",
    "from matplotlib import rc\n",
    "import math\n",
    "import matplotlib.pyplot as plt\n",
    "rc('font', **{'family': 'serif', 'serif': ['Computer Modern'], 'size': 14})\n",
    "rc('text', usetex=True)\n",
    "\n",
    "# PLOT_PROB=False plots the wavefunction psi; PLOT_PROB=True plots the density |psi|^2\n",
    "PLOT_PROB = True\n",
    "\n",
    "# Maximum quantum number to calculate wavefunction for\n",
    "N = 6\n",
    "\n",
    "# Some appearance settings\n",
    "# Pad the x-axis on each side of the maximum turning points by this fraction\n",
    "XPAD_FRAC = 1.3\n",
    "# Scale the wavefunctions so they don't overlap\n",
    "SCALING = 0.7\n",
    "# Colors of the wavefunctions\n",
    "if PLOT_PROB:\n",
    "    COLOR = 'navy'\n",
    "else:\n",
    "    COLOR = 'cornflowerblue'\n",
    "\n",
    "# Normalization constant and energy level for quantum number n\n",
    "NORM_CONST = lambda n: 1./np.sqrt(np.sqrt(np.pi)*2**n*math.factorial(n))\n",
    "get_E = lambda n: n + 0.5\n",
    "\n",
    "def make_Hr():\n",
    "    \"\"\"Return a list of np.poly1d objects representing Hermite polynomials.\"\"\"\n",
    "\n",
    "    # Define the Hermite polynomials up to order N by recursion:\n",
    "    # H_[n] = 2xH_[n-1] - 2(n-1)H_[n-2]\n",
    "    Hr = [None] * (N + 1)\n",
    "    Hr[0] = np.poly1d([1.,])\n",
    "    Hr[1] = np.poly1d([2., 0.])\n",
    "    for n in range(2, N+1):\n",
    "        Hr[n] = Hr[1]*Hr[n-1] - 2*(n-1)*Hr[n-2]\n",
    "    return Hr\n",
    "\n",
    "Hr = make_Hr()\n",
    "\n",
    "def get_psi(n, x):\n",
    "    \"\"\"Return the harmonic oscillator wavefunction for level n on grid x.\"\"\"\n",
    "    return NORM_CONST(n)*Hr[n](x)*np.exp(-x*x/2.)\n",
    "\n",
    "def get_turning_points(n):\n",
    "    \"\"\"Return the classical turning points for state n.\"\"\"\n",
    "    xmax = np.sqrt(2. * get_E(n + 0.5))\n",
    "    return -xmax, xmax\n",
    "\n",
    "def get_potential(x):\n",
    "    \"\"\"Return potential energy on scaled oscillator displacement grid x.\"\"\"\n",
    "    return x**2 / 2\n",
    "\n",
    "\n",
    "fig, ax = plt.subplots()\n",
    "xmin, xmax = get_turning_points(N)\n",
    "zmin, zmax = XPAD_FRAC * xmin, XPAD_FRAC * xmax\n",
    "x = np.linspace(xmin, xmax, 500)\n",
    "V = get_potential(x)\n",
    "\n",
    "def plot_func(ax, f, scaling=1, yoffset=0):\n",
    "    \"\"\"Plot f*scaling with offset yoffset.\n",
    "\n",
    "    The curve around the offset is filled with COLOR;\n",
    "\n",
    "    \"\"\"\n",
    "    ax.plot(x, f*scaling + yoffset, color=COLOR)\n",
    "    ax.fill_between(x, f*scaling + yoffset, yoffset, f > 0.,\n",
    "                    color=COLOR, alpha=0.5)\n",
    "    ax.fill_between(x, f*scaling + yoffset, yoffset, f < 0.,\n",
    "                    color=COLOR, alpha=0.5)\n",
    "\n",
    "# Plot the potential V(x).\n",
    "ax.plot(x, V, color='k', linewidth=1.5)\n",
    "\n",
    "# Plot each of the wavefunctions (or probability distributions) up to N.\n",
    "for n in range(N+1):\n",
    "    psi_n = get_psi(n, x)\n",
    "    E_n = get_E(n)\n",
    "    if PLOT_PROB:\n",
    "        plot_func(ax, psi_n**2, scaling=SCALING*1.5, yoffset=E_n)\n",
    "    else:\n",
    "        plot_func(ax, psi_n, scaling=SCALING, yoffset=E_n)\n",
    "    # Label energy levels, E = (v+0.5).hbar.omega.\n",
    "    ax.text(s=r'$E_{{{}}} = ({}+\\frac{{1}}{{2}})\\hbar\\omega$'.format(n,n), x=xmax+0.2,\n",
    "            y=E_n, va='center')\n",
    "    # Label the vibrational levels.\n",
    "    if PLOT_PROB:\n",
    "         ax.text(s=r'$|\\psi_{{{}}}|^2$'.format(n), x=xmin-0.2, y=E_n, va='center', ha='right')\n",
    "    else:\n",
    "         ax.text(s=r'$\\psi_{{{}}}$'.format(n), x=xmin-0.2, y=E_n, va='center', ha='right')\n",
    "\n",
    "# Add a bit of space to the top of the plot.\n",
    "ymax = E_n+0.5\n",
    "\n",
    "if PLOT_PROB:\n",
    "    ylabel = r'$|\\psi(\\xi)|^2$'\n",
    "else:\n",
    "    ylabel = r'$\\psi(\\xi)$'\n",
    "ax.text(s=ylabel, x=0, y=ymax, va='bottom', ha='center')\n",
    "\n",
    "ax.set_xlabel(r'$\\xi$')\n",
    "ax.set_xlim(zmin, zmax)\n",
    "ax.set_ylim(0, ymax)\n",
    "ax.spines['left'].set_position('center')\n",
    "ax.set_yticks([])\n",
    "ax.spines['top'].set_visible(False)\n",
    "ax.spines['right'].set_visible(False)\n",
    "\n",
    "plt.savefig('qho-psi{}.png'.format(PLOT_PROB+1),bbox_inches='tight', dpi=300)\n",
    "plt.close()"
   ]
  }
 ],
 "metadata": {
  "kernelspec": {
   "display_name": "Python 3",
   "language": "python",
   "name": "python3"
  },
  "language_info": {
   "codemirror_mode": {
    "name": "ipython",
    "version": 3
   },
   "file_extension": ".py",
   "mimetype": "text/x-python",
   "name": "python",
   "nbconvert_exporter": "python",
   "pygments_lexer": "ipython3",
   "version": "3.8.3"
  }
 },
 "nbformat": 4,
 "nbformat_minor": 4
}
